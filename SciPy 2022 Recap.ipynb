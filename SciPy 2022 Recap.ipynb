{
 "cells": [
  {
   "cell_type": "markdown",
   "metadata": {},
   "source": [
    "# SciPy 2022 Recap"
   ]
  },
  {
   "cell_type": "markdown",
   "metadata": {},
   "source": [
    "As SOI’s Data Intern I had the chance to virtually attend the SciPy 2022 conference this past week. A graduate course was my first (very basic) introduction to the language so as Python and I are becoming more and more familiar, getting to hear how other researchers and developers in the geosciences (and other fields) use Python for many different applications was really cool. Some of the talks I attended included demonstrations of code to show off different packages they used and what for. For example, Dr. Megan Sosey discussed how AstroPy (a package that was new to me), has been instrumental at NASA for the development of the Hubble, Webb, and Roman telescopes. This was a particularly interesting talk to me because how much Dr. Sosey stressed the importance of open source software in the astronomy field.\n",
    "\n",
    "One of my favorite talks of the week was given by Julius Buescke where he stressed the importance of the [Pangeo Project](https://pangeo.io/), an operation dedicated to the future of science that ultimately will help reduce the toil of waiting on data and code from other researchers. I was able to relate to this talk because for his [demo](https://github.com/jbusecke/xMIP/blob/main/docs/tutorial.ipynb) Buescke used CMIP6 (cloud model data) of which I have used for a research project. This was a neat relation getting to see how someone else has used this same data in a different program than where I was analyzing it.\n",
    "\n",
    "Overall attending SciPy 2022 was a great learning experience by getting introduced to new packages, data analysis and plotting techniques, awesome projects researchers from many different fields and backgrounds are currently working on, and allowed me to slip further into the world of Python, geosciences, and beyond.\n"
   ]
  },
  {
   "cell_type": "markdown",
   "metadata": {},
   "source": [
    "https://github.com/jbusecke/xMIP/blob/main/docs/tutorial.ipynb"
   ]
  },
  {
   "cell_type": "code",
   "execution_count": null,
   "metadata": {},
   "outputs": [],
   "source": []
  }
 ],
 "metadata": {
  "kernelspec": {
   "display_name": "Python 3",
   "language": "python",
   "name": "python3"
  },
  "language_info": {
   "codemirror_mode": {
    "name": "ipython",
    "version": 3
   },
   "file_extension": ".py",
   "mimetype": "text/x-python",
   "name": "python",
   "nbconvert_exporter": "python",
   "pygments_lexer": "ipython3",
   "version": "3.8.5"
  }
 },
 "nbformat": 4,
 "nbformat_minor": 4
}
